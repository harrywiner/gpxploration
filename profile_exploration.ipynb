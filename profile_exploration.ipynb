{
 "cells": [
  {
   "cell_type": "markdown",
   "metadata": {},
   "source": [
    "# Profile Exploration\n",
    "Using `profiling.py` and generating `profiling/routeProfileFrame.csv` I will analyse the general shape of every gpx file in BPT's library"
   ]
  },
  {
   "cell_type": "code",
   "execution_count": null,
   "metadata": {},
   "outputs": [],
   "source": [
    "import pandas as pd\n",
    "\n",
    "df = pd.read_csv(\"profiling/routeProfileFrame.csv\")\n",
    "\n",
    "df.describe()"
   ]
  },
  {
   "cell_type": "code",
   "execution_count": null,
   "metadata": {},
   "outputs": [],
   "source": [
    "multipleRoutes = df[df[\"numRoutes\"] > 1]\n",
    "\n",
    "multipleRoutes.describe()"
   ]
  },
  {
   "cell_type": "code",
   "execution_count": null,
   "metadata": {},
   "outputs": [],
   "source": [
    "import gpxpy\n",
    "import folium \n",
    "\n",
    "def visualise_gpx_file(file_name, routeType=\"track\"):\n",
    "    gpx_file = open(file_name, 'r')\n",
    "    gpx = gpxpy.parse(gpx_file)\n",
    "    if routeType == \"track\":\n",
    "      map = folium.Map(location=[gpx.tracks[0].segments[0].points[0].latitude, gpx.tracks[0].segments[0].points[0].longitude], zoom_start=14)\n",
    "      colors = [\"red\", \"blue\", \"green\", \"purple\", \"orange\", \"darkred\", \"darkblue\", \"darkgreen\"]\n",
    "      for (idx, track) in enumerate(gpx.tracks):\n",
    "          color = colors[idx % len(colors)]\n",
    "          for segment in track.segments:\n",
    "              folium.PolyLine([(p.latitude, p.longitude) for p in segment.points], color=color, weight=2.5, opacity=0.5).add_to(map)\n",
    "    \n",
    "    return map\n",
    "\n",
    "m = visualise_gpx_file(\"GPX files/Gower-Pilgrimage-Way.gpx\")\n",
    "m"
   ]
  },
  {
   "cell_type": "code",
   "execution_count": null,
   "metadata": {},
   "outputs": [],
   "source": [
    "gower = df[df[\"numRoutes\"] == 17]\n",
    "\n",
    "gpx_file = open(\"GPX files/Gower-Pilgrimage-Way.gpx\", 'r')\n",
    "gowerGpx = gpxpy.parse(gpx_file)\n",
    "\n",
    "print(f\"tracks: {len(gowerGpx.tracks)} segs: {len(gowerGpx.tracks[0].segments)}\")"
   ]
  },
  {
   "cell_type": "code",
   "execution_count": null,
   "metadata": {},
   "outputs": [],
   "source": [
    "twoRoutes = df[df[\"numRoutes\"] == 2]\n",
    "twoRoutes.describe()"
   ]
  },
  {
   "cell_type": "code",
   "execution_count": null,
   "metadata": {},
   "outputs": [],
   "source": [
    "file = twoRoutes[\"file\"].values[0]\n",
    "print(\"visualising file: \", file)\n",
    "visualise_gpx_file(file)"
   ]
  },
  {
   "cell_type": "code",
   "execution_count": null,
   "metadata": {},
   "outputs": [],
   "source": [
    "route = twoRoutes[twoRoutes[\"routeType\"] == \"route\"]\n",
    "\n",
    "route.describe()"
   ]
  },
  {
   "cell_type": "code",
   "execution_count": null,
   "metadata": {},
   "outputs": [],
   "source": [
    "visualise_gpx_file(route[\"file\"].values[0], routeType=\"route\")"
   ]
  },
  {
   "cell_type": "code",
   "execution_count": null,
   "metadata": {},
   "outputs": [],
   "source": []
  }
 ],
 "metadata": {
  "kernelspec": {
   "display_name": "Python 3",
   "language": "python",
   "name": "python3"
  },
  "language_info": {
   "codemirror_mode": {
    "name": "ipython",
    "version": 3
   },
   "file_extension": ".py",
   "mimetype": "text/x-python",
   "name": "python",
   "nbconvert_exporter": "python",
   "pygments_lexer": "ipython3",
   "version": "3.10.12"
  }
 },
 "nbformat": 4,
 "nbformat_minor": 2
}
